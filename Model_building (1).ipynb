{
  "nbformat": 4,
  "nbformat_minor": 0,
  "metadata": {
    "colab": {
      "name": "Model building.ipynb",
      "provenance": [],
      "collapsed_sections": []
    },
    "kernelspec": {
      "name": "python3",
      "display_name": "Python 3"
    },
    "language_info": {
      "name": "python"
    }
  },
  "cells": [
    {
      "cell_type": "markdown",
      "source": [
        "**Name:** Neha Dinesh Sonar\n",
        "\n",
        "**Roll no:** 20013065"
      ],
      "metadata": {
        "id": "gJMRKafKWQJP"
      }
    },
    {
      "cell_type": "code",
      "execution_count": null,
      "metadata": {
        "id": "oAwaSdXfw_j_"
      },
      "outputs": [],
      "source": [
        "import pandas as pd\n",
        "import numpy as np\n",
        "import matplotlib.pyplot as plt\n"
      ]
    },
    {
      "cell_type": "markdown",
      "source": [
        "**Reading the dataset**"
      ],
      "metadata": {
        "id": "tJDZdG7vNCqI"
      }
    },
    {
      "cell_type": "code",
      "source": [
        "adata = pd.read_csv(\"air_data.csv\");\n",
        "\n",
        "adata"
      ],
      "metadata": {
        "colab": {
          "base_uri": "https://localhost:8080/",
          "height": 424
        },
        "id": "p_-S462iM8xA",
        "outputId": "ad103434-db37-492a-ed5d-4ffa814f8e3e"
      },
      "execution_count": null,
      "outputs": [
        {
          "output_type": "execute_result",
          "data": {
            "text/plain": [
              "     Unnamed: 0  Ozone  Solar.R  Wind  Temp  Month  Day\n",
              "0             1   41.0    190.0   7.4    67      5    1\n",
              "1             2   36.0    118.0   8.0    72      5    2\n",
              "2             3   12.0    149.0  12.6    74      5    3\n",
              "3             4   18.0    313.0  11.5    62      5    4\n",
              "4             5    NaN      NaN  14.3    56      5    5\n",
              "..          ...    ...      ...   ...   ...    ...  ...\n",
              "103         104   44.0    192.0  11.5    86      8   12\n",
              "104         105   28.0    273.0  11.5    82      8   13\n",
              "105         106   65.0    157.0   9.7    80      8   14\n",
              "106         107    NaN     64.0  11.5    79      8   15\n",
              "107         108   22.0     71.0  10.3    77      8   16\n",
              "\n",
              "[108 rows x 7 columns]"
            ],
            "text/html": [
              "\n",
              "  <div id=\"df-8a1ed0dd-475f-4817-af2c-f9ed05c8a7e0\">\n",
              "    <div class=\"colab-df-container\">\n",
              "      <div>\n",
              "<style scoped>\n",
              "    .dataframe tbody tr th:only-of-type {\n",
              "        vertical-align: middle;\n",
              "    }\n",
              "\n",
              "    .dataframe tbody tr th {\n",
              "        vertical-align: top;\n",
              "    }\n",
              "\n",
              "    .dataframe thead th {\n",
              "        text-align: right;\n",
              "    }\n",
              "</style>\n",
              "<table border=\"1\" class=\"dataframe\">\n",
              "  <thead>\n",
              "    <tr style=\"text-align: right;\">\n",
              "      <th></th>\n",
              "      <th>Unnamed: 0</th>\n",
              "      <th>Ozone</th>\n",
              "      <th>Solar.R</th>\n",
              "      <th>Wind</th>\n",
              "      <th>Temp</th>\n",
              "      <th>Month</th>\n",
              "      <th>Day</th>\n",
              "    </tr>\n",
              "  </thead>\n",
              "  <tbody>\n",
              "    <tr>\n",
              "      <th>0</th>\n",
              "      <td>1</td>\n",
              "      <td>41.0</td>\n",
              "      <td>190.0</td>\n",
              "      <td>7.4</td>\n",
              "      <td>67</td>\n",
              "      <td>5</td>\n",
              "      <td>1</td>\n",
              "    </tr>\n",
              "    <tr>\n",
              "      <th>1</th>\n",
              "      <td>2</td>\n",
              "      <td>36.0</td>\n",
              "      <td>118.0</td>\n",
              "      <td>8.0</td>\n",
              "      <td>72</td>\n",
              "      <td>5</td>\n",
              "      <td>2</td>\n",
              "    </tr>\n",
              "    <tr>\n",
              "      <th>2</th>\n",
              "      <td>3</td>\n",
              "      <td>12.0</td>\n",
              "      <td>149.0</td>\n",
              "      <td>12.6</td>\n",
              "      <td>74</td>\n",
              "      <td>5</td>\n",
              "      <td>3</td>\n",
              "    </tr>\n",
              "    <tr>\n",
              "      <th>3</th>\n",
              "      <td>4</td>\n",
              "      <td>18.0</td>\n",
              "      <td>313.0</td>\n",
              "      <td>11.5</td>\n",
              "      <td>62</td>\n",
              "      <td>5</td>\n",
              "      <td>4</td>\n",
              "    </tr>\n",
              "    <tr>\n",
              "      <th>4</th>\n",
              "      <td>5</td>\n",
              "      <td>NaN</td>\n",
              "      <td>NaN</td>\n",
              "      <td>14.3</td>\n",
              "      <td>56</td>\n",
              "      <td>5</td>\n",
              "      <td>5</td>\n",
              "    </tr>\n",
              "    <tr>\n",
              "      <th>...</th>\n",
              "      <td>...</td>\n",
              "      <td>...</td>\n",
              "      <td>...</td>\n",
              "      <td>...</td>\n",
              "      <td>...</td>\n",
              "      <td>...</td>\n",
              "      <td>...</td>\n",
              "    </tr>\n",
              "    <tr>\n",
              "      <th>103</th>\n",
              "      <td>104</td>\n",
              "      <td>44.0</td>\n",
              "      <td>192.0</td>\n",
              "      <td>11.5</td>\n",
              "      <td>86</td>\n",
              "      <td>8</td>\n",
              "      <td>12</td>\n",
              "    </tr>\n",
              "    <tr>\n",
              "      <th>104</th>\n",
              "      <td>105</td>\n",
              "      <td>28.0</td>\n",
              "      <td>273.0</td>\n",
              "      <td>11.5</td>\n",
              "      <td>82</td>\n",
              "      <td>8</td>\n",
              "      <td>13</td>\n",
              "    </tr>\n",
              "    <tr>\n",
              "      <th>105</th>\n",
              "      <td>106</td>\n",
              "      <td>65.0</td>\n",
              "      <td>157.0</td>\n",
              "      <td>9.7</td>\n",
              "      <td>80</td>\n",
              "      <td>8</td>\n",
              "      <td>14</td>\n",
              "    </tr>\n",
              "    <tr>\n",
              "      <th>106</th>\n",
              "      <td>107</td>\n",
              "      <td>NaN</td>\n",
              "      <td>64.0</td>\n",
              "      <td>11.5</td>\n",
              "      <td>79</td>\n",
              "      <td>8</td>\n",
              "      <td>15</td>\n",
              "    </tr>\n",
              "    <tr>\n",
              "      <th>107</th>\n",
              "      <td>108</td>\n",
              "      <td>22.0</td>\n",
              "      <td>71.0</td>\n",
              "      <td>10.3</td>\n",
              "      <td>77</td>\n",
              "      <td>8</td>\n",
              "      <td>16</td>\n",
              "    </tr>\n",
              "  </tbody>\n",
              "</table>\n",
              "<p>108 rows × 7 columns</p>\n",
              "</div>\n",
              "      <button class=\"colab-df-convert\" onclick=\"convertToInteractive('df-8a1ed0dd-475f-4817-af2c-f9ed05c8a7e0')\"\n",
              "              title=\"Convert this dataframe to an interactive table.\"\n",
              "              style=\"display:none;\">\n",
              "        \n",
              "  <svg xmlns=\"http://www.w3.org/2000/svg\" height=\"24px\"viewBox=\"0 0 24 24\"\n",
              "       width=\"24px\">\n",
              "    <path d=\"M0 0h24v24H0V0z\" fill=\"none\"/>\n",
              "    <path d=\"M18.56 5.44l.94 2.06.94-2.06 2.06-.94-2.06-.94-.94-2.06-.94 2.06-2.06.94zm-11 1L8.5 8.5l.94-2.06 2.06-.94-2.06-.94L8.5 2.5l-.94 2.06-2.06.94zm10 10l.94 2.06.94-2.06 2.06-.94-2.06-.94-.94-2.06-.94 2.06-2.06.94z\"/><path d=\"M17.41 7.96l-1.37-1.37c-.4-.4-.92-.59-1.43-.59-.52 0-1.04.2-1.43.59L10.3 9.45l-7.72 7.72c-.78.78-.78 2.05 0 2.83L4 21.41c.39.39.9.59 1.41.59.51 0 1.02-.2 1.41-.59l7.78-7.78 2.81-2.81c.8-.78.8-2.07 0-2.86zM5.41 20L4 18.59l7.72-7.72 1.47 1.35L5.41 20z\"/>\n",
              "  </svg>\n",
              "      </button>\n",
              "      \n",
              "  <style>\n",
              "    .colab-df-container {\n",
              "      display:flex;\n",
              "      flex-wrap:wrap;\n",
              "      gap: 12px;\n",
              "    }\n",
              "\n",
              "    .colab-df-convert {\n",
              "      background-color: #E8F0FE;\n",
              "      border: none;\n",
              "      border-radius: 50%;\n",
              "      cursor: pointer;\n",
              "      display: none;\n",
              "      fill: #1967D2;\n",
              "      height: 32px;\n",
              "      padding: 0 0 0 0;\n",
              "      width: 32px;\n",
              "    }\n",
              "\n",
              "    .colab-df-convert:hover {\n",
              "      background-color: #E2EBFA;\n",
              "      box-shadow: 0px 1px 2px rgba(60, 64, 67, 0.3), 0px 1px 3px 1px rgba(60, 64, 67, 0.15);\n",
              "      fill: #174EA6;\n",
              "    }\n",
              "\n",
              "    [theme=dark] .colab-df-convert {\n",
              "      background-color: #3B4455;\n",
              "      fill: #D2E3FC;\n",
              "    }\n",
              "\n",
              "    [theme=dark] .colab-df-convert:hover {\n",
              "      background-color: #434B5C;\n",
              "      box-shadow: 0px 1px 3px 1px rgba(0, 0, 0, 0.15);\n",
              "      filter: drop-shadow(0px 1px 2px rgba(0, 0, 0, 0.3));\n",
              "      fill: #FFFFFF;\n",
              "    }\n",
              "  </style>\n",
              "\n",
              "      <script>\n",
              "        const buttonEl =\n",
              "          document.querySelector('#df-8a1ed0dd-475f-4817-af2c-f9ed05c8a7e0 button.colab-df-convert');\n",
              "        buttonEl.style.display =\n",
              "          google.colab.kernel.accessAllowed ? 'block' : 'none';\n",
              "\n",
              "        async function convertToInteractive(key) {\n",
              "          const element = document.querySelector('#df-8a1ed0dd-475f-4817-af2c-f9ed05c8a7e0');\n",
              "          const dataTable =\n",
              "            await google.colab.kernel.invokeFunction('convertToInteractive',\n",
              "                                                     [key], {});\n",
              "          if (!dataTable) return;\n",
              "\n",
              "          const docLinkHtml = 'Like what you see? Visit the ' +\n",
              "            '<a target=\"_blank\" href=https://colab.research.google.com/notebooks/data_table.ipynb>data table notebook</a>'\n",
              "            + ' to learn more about interactive tables.';\n",
              "          element.innerHTML = '';\n",
              "          dataTable['output_type'] = 'display_data';\n",
              "          await google.colab.output.renderOutput(dataTable, element);\n",
              "          const docLink = document.createElement('div');\n",
              "          docLink.innerHTML = docLinkHtml;\n",
              "          element.appendChild(docLink);\n",
              "        }\n",
              "      </script>\n",
              "    </div>\n",
              "  </div>\n",
              "  "
            ]
          },
          "metadata": {},
          "execution_count": 4
        }
      ]
    },
    {
      "cell_type": "markdown",
      "source": [
        "**Data preparation**"
      ],
      "metadata": {
        "id": "tHOqexTXNKZU"
      }
    },
    {
      "cell_type": "code",
      "source": [
        "adata.columns"
      ],
      "metadata": {
        "colab": {
          "base_uri": "https://localhost:8080/"
        },
        "id": "-8oZWpHRM85J",
        "outputId": "38ae2d88-3aba-4ed5-b9a8-60eb85a96b54"
      },
      "execution_count": null,
      "outputs": [
        {
          "output_type": "execute_result",
          "data": {
            "text/plain": [
              "Index(['Unnamed: 0', 'Ozone', 'Solar.R', 'Wind', 'Temp', 'Month', 'Day'], dtype='object')"
            ]
          },
          "metadata": {},
          "execution_count": 5
        }
      ]
    },
    {
      "cell_type": "code",
      "source": [
        "adata.shape"
      ],
      "metadata": {
        "colab": {
          "base_uri": "https://localhost:8080/"
        },
        "id": "MWdoD7GoM87i",
        "outputId": "c2110867-4c0b-4ee8-9d7c-014b892476d8"
      },
      "execution_count": null,
      "outputs": [
        {
          "output_type": "execute_result",
          "data": {
            "text/plain": [
              "(108, 7)"
            ]
          },
          "metadata": {},
          "execution_count": 6
        }
      ]
    },
    {
      "cell_type": "code",
      "source": [
        "adata.isnull().sum()"
      ],
      "metadata": {
        "colab": {
          "base_uri": "https://localhost:8080/"
        },
        "id": "Ggo0EWWkM891",
        "outputId": "88bc0077-95bb-454a-ddd3-fa6d45acd6a1"
      },
      "execution_count": null,
      "outputs": [
        {
          "output_type": "execute_result",
          "data": {
            "text/plain": [
              "Unnamed: 0     0\n",
              "Ozone         34\n",
              "Solar.R        7\n",
              "Wind           0\n",
              "Temp           0\n",
              "Month          0\n",
              "Day            0\n",
              "dtype: int64"
            ]
          },
          "metadata": {},
          "execution_count": 7
        }
      ]
    },
    {
      "cell_type": "code",
      "source": [
        "ozone_mean=adata['Ozone'].mean()\n",
        "adata['Ozone']= adata['Ozone'].fillna(ozone_mean) \n",
        "\n",
        "\n",
        "solar_mean = adata['Solar.R'].mean()\n",
        "adata['Solar.R'] = adata['Solar.R'].fillna(solar_mean)"
      ],
      "metadata": {
        "id": "_cHbdZrnM9AR"
      },
      "execution_count": null,
      "outputs": []
    },
    {
      "cell_type": "code",
      "source": [
        "adata.isnull().sum()"
      ],
      "metadata": {
        "colab": {
          "base_uri": "https://localhost:8080/"
        },
        "id": "XIVewZ3KNRwH",
        "outputId": "c2f6afc8-f373-40f5-ae8c-d69843fd6ed3"
      },
      "execution_count": null,
      "outputs": [
        {
          "output_type": "execute_result",
          "data": {
            "text/plain": [
              "Unnamed: 0    0\n",
              "Ozone         0\n",
              "Solar.R       0\n",
              "Wind          0\n",
              "Temp          0\n",
              "Month         0\n",
              "Day           0\n",
              "dtype: int64"
            ]
          },
          "metadata": {},
          "execution_count": 9
        }
      ]
    },
    {
      "cell_type": "markdown",
      "source": [
        "**Correlation matrix**"
      ],
      "metadata": {
        "id": "L7trZTdR9ZWa"
      }
    },
    {
      "cell_type": "code",
      "source": [
        "adata.drop(['Unnamed: 0'],axis=1, inplace= True)"
      ],
      "metadata": {
        "id": "YzJ8E9fEQSQg"
      },
      "execution_count": null,
      "outputs": []
    },
    {
      "cell_type": "code",
      "source": [
        "matrix = adata.corr()\n",
        "matrix"
      ],
      "metadata": {
        "colab": {
          "base_uri": "https://localhost:8080/",
          "height": 238
        },
        "id": "V0uxl4Rt9TQR",
        "outputId": "a83180bd-df4d-4edd-865b-a85e60523a03"
      },
      "execution_count": null,
      "outputs": [
        {
          "output_type": "execute_result",
          "data": {
            "text/plain": [
              "            Ozone   Solar.R      Wind      Temp     Month       Day\n",
              "Ozone    1.000000  0.325547 -0.463648  0.572369  0.425781 -0.021795\n",
              "Solar.R  0.325547  1.000000 -0.048794  0.289614  0.006278 -0.168179\n",
              "Wind    -0.463648 -0.048794  1.000000 -0.401515 -0.302494  0.030999\n",
              "Temp     0.572369  0.289614 -0.401515  1.000000  0.735921 -0.146081\n",
              "Month    0.425781  0.006278 -0.302494  0.735921  1.000000 -0.203542\n",
              "Day     -0.021795 -0.168179  0.030999 -0.146081 -0.203542  1.000000"
            ],
            "text/html": [
              "\n",
              "  <div id=\"df-1f81e343-8b16-44f4-a6f9-657f91e8aae6\">\n",
              "    <div class=\"colab-df-container\">\n",
              "      <div>\n",
              "<style scoped>\n",
              "    .dataframe tbody tr th:only-of-type {\n",
              "        vertical-align: middle;\n",
              "    }\n",
              "\n",
              "    .dataframe tbody tr th {\n",
              "        vertical-align: top;\n",
              "    }\n",
              "\n",
              "    .dataframe thead th {\n",
              "        text-align: right;\n",
              "    }\n",
              "</style>\n",
              "<table border=\"1\" class=\"dataframe\">\n",
              "  <thead>\n",
              "    <tr style=\"text-align: right;\">\n",
              "      <th></th>\n",
              "      <th>Ozone</th>\n",
              "      <th>Solar.R</th>\n",
              "      <th>Wind</th>\n",
              "      <th>Temp</th>\n",
              "      <th>Month</th>\n",
              "      <th>Day</th>\n",
              "    </tr>\n",
              "  </thead>\n",
              "  <tbody>\n",
              "    <tr>\n",
              "      <th>Ozone</th>\n",
              "      <td>1.000000</td>\n",
              "      <td>0.325547</td>\n",
              "      <td>-0.463648</td>\n",
              "      <td>0.572369</td>\n",
              "      <td>0.425781</td>\n",
              "      <td>-0.021795</td>\n",
              "    </tr>\n",
              "    <tr>\n",
              "      <th>Solar.R</th>\n",
              "      <td>0.325547</td>\n",
              "      <td>1.000000</td>\n",
              "      <td>-0.048794</td>\n",
              "      <td>0.289614</td>\n",
              "      <td>0.006278</td>\n",
              "      <td>-0.168179</td>\n",
              "    </tr>\n",
              "    <tr>\n",
              "      <th>Wind</th>\n",
              "      <td>-0.463648</td>\n",
              "      <td>-0.048794</td>\n",
              "      <td>1.000000</td>\n",
              "      <td>-0.401515</td>\n",
              "      <td>-0.302494</td>\n",
              "      <td>0.030999</td>\n",
              "    </tr>\n",
              "    <tr>\n",
              "      <th>Temp</th>\n",
              "      <td>0.572369</td>\n",
              "      <td>0.289614</td>\n",
              "      <td>-0.401515</td>\n",
              "      <td>1.000000</td>\n",
              "      <td>0.735921</td>\n",
              "      <td>-0.146081</td>\n",
              "    </tr>\n",
              "    <tr>\n",
              "      <th>Month</th>\n",
              "      <td>0.425781</td>\n",
              "      <td>0.006278</td>\n",
              "      <td>-0.302494</td>\n",
              "      <td>0.735921</td>\n",
              "      <td>1.000000</td>\n",
              "      <td>-0.203542</td>\n",
              "    </tr>\n",
              "    <tr>\n",
              "      <th>Day</th>\n",
              "      <td>-0.021795</td>\n",
              "      <td>-0.168179</td>\n",
              "      <td>0.030999</td>\n",
              "      <td>-0.146081</td>\n",
              "      <td>-0.203542</td>\n",
              "      <td>1.000000</td>\n",
              "    </tr>\n",
              "  </tbody>\n",
              "</table>\n",
              "</div>\n",
              "      <button class=\"colab-df-convert\" onclick=\"convertToInteractive('df-1f81e343-8b16-44f4-a6f9-657f91e8aae6')\"\n",
              "              title=\"Convert this dataframe to an interactive table.\"\n",
              "              style=\"display:none;\">\n",
              "        \n",
              "  <svg xmlns=\"http://www.w3.org/2000/svg\" height=\"24px\"viewBox=\"0 0 24 24\"\n",
              "       width=\"24px\">\n",
              "    <path d=\"M0 0h24v24H0V0z\" fill=\"none\"/>\n",
              "    <path d=\"M18.56 5.44l.94 2.06.94-2.06 2.06-.94-2.06-.94-.94-2.06-.94 2.06-2.06.94zm-11 1L8.5 8.5l.94-2.06 2.06-.94-2.06-.94L8.5 2.5l-.94 2.06-2.06.94zm10 10l.94 2.06.94-2.06 2.06-.94-2.06-.94-.94-2.06-.94 2.06-2.06.94z\"/><path d=\"M17.41 7.96l-1.37-1.37c-.4-.4-.92-.59-1.43-.59-.52 0-1.04.2-1.43.59L10.3 9.45l-7.72 7.72c-.78.78-.78 2.05 0 2.83L4 21.41c.39.39.9.59 1.41.59.51 0 1.02-.2 1.41-.59l7.78-7.78 2.81-2.81c.8-.78.8-2.07 0-2.86zM5.41 20L4 18.59l7.72-7.72 1.47 1.35L5.41 20z\"/>\n",
              "  </svg>\n",
              "      </button>\n",
              "      \n",
              "  <style>\n",
              "    .colab-df-container {\n",
              "      display:flex;\n",
              "      flex-wrap:wrap;\n",
              "      gap: 12px;\n",
              "    }\n",
              "\n",
              "    .colab-df-convert {\n",
              "      background-color: #E8F0FE;\n",
              "      border: none;\n",
              "      border-radius: 50%;\n",
              "      cursor: pointer;\n",
              "      display: none;\n",
              "      fill: #1967D2;\n",
              "      height: 32px;\n",
              "      padding: 0 0 0 0;\n",
              "      width: 32px;\n",
              "    }\n",
              "\n",
              "    .colab-df-convert:hover {\n",
              "      background-color: #E2EBFA;\n",
              "      box-shadow: 0px 1px 2px rgba(60, 64, 67, 0.3), 0px 1px 3px 1px rgba(60, 64, 67, 0.15);\n",
              "      fill: #174EA6;\n",
              "    }\n",
              "\n",
              "    [theme=dark] .colab-df-convert {\n",
              "      background-color: #3B4455;\n",
              "      fill: #D2E3FC;\n",
              "    }\n",
              "\n",
              "    [theme=dark] .colab-df-convert:hover {\n",
              "      background-color: #434B5C;\n",
              "      box-shadow: 0px 1px 3px 1px rgba(0, 0, 0, 0.15);\n",
              "      filter: drop-shadow(0px 1px 2px rgba(0, 0, 0, 0.3));\n",
              "      fill: #FFFFFF;\n",
              "    }\n",
              "  </style>\n",
              "\n",
              "      <script>\n",
              "        const buttonEl =\n",
              "          document.querySelector('#df-1f81e343-8b16-44f4-a6f9-657f91e8aae6 button.colab-df-convert');\n",
              "        buttonEl.style.display =\n",
              "          google.colab.kernel.accessAllowed ? 'block' : 'none';\n",
              "\n",
              "        async function convertToInteractive(key) {\n",
              "          const element = document.querySelector('#df-1f81e343-8b16-44f4-a6f9-657f91e8aae6');\n",
              "          const dataTable =\n",
              "            await google.colab.kernel.invokeFunction('convertToInteractive',\n",
              "                                                     [key], {});\n",
              "          if (!dataTable) return;\n",
              "\n",
              "          const docLinkHtml = 'Like what you see? Visit the ' +\n",
              "            '<a target=\"_blank\" href=https://colab.research.google.com/notebooks/data_table.ipynb>data table notebook</a>'\n",
              "            + ' to learn more about interactive tables.';\n",
              "          element.innerHTML = '';\n",
              "          dataTable['output_type'] = 'display_data';\n",
              "          await google.colab.output.renderOutput(dataTable, element);\n",
              "          const docLink = document.createElement('div');\n",
              "          docLink.innerHTML = docLinkHtml;\n",
              "          element.appendChild(docLink);\n",
              "        }\n",
              "      </script>\n",
              "    </div>\n",
              "  </div>\n",
              "  "
            ]
          },
          "metadata": {},
          "execution_count": 11
        }
      ]
    },
    {
      "cell_type": "markdown",
      "source": [
        "**Dividing dataset in test data and train data**"
      ],
      "metadata": {
        "id": "YIrU-bwUNYD4"
      }
    },
    {
      "cell_type": "code",
      "source": [
        "X=adata[['Month','Solar.R','Wind','Temp']]\n",
        "Y= adata[['Ozone']]"
      ],
      "metadata": {
        "id": "oiPh10cLNRys"
      },
      "execution_count": null,
      "outputs": []
    },
    {
      "cell_type": "code",
      "source": [
        "from sklearn.model_selection import train_test_split\n",
        "\n",
        "x_train,x_test,y_train, y_test = train_test_split(X, Y, test_size=0.25, random_state=42)\n",
        "\n",
        "print(\"Length of x_train = \",len(x_train))\n",
        "print(\"Length of x_test = \",len(x_test))\n",
        "print(\"Length of y_train = \",len(y_train))\n",
        "print(\"Length of y_test = \",len(y_test))"
      ],
      "metadata": {
        "id": "Rnv6J5d5NR03",
        "colab": {
          "base_uri": "https://localhost:8080/"
        },
        "outputId": "d2fabd3c-7e11-4f89-ccf0-c3da6242eb4e"
      },
      "execution_count": null,
      "outputs": [
        {
          "output_type": "stream",
          "name": "stdout",
          "text": [
            "Length of x_train =  81\n",
            "Length of x_test =  27\n",
            "Length of y_train =  81\n",
            "Length of y_test =  27\n"
          ]
        }
      ]
    },
    {
      "cell_type": "markdown",
      "source": [
        "**Fitting data in the model**"
      ],
      "metadata": {
        "id": "7KgtuwNuNgUk"
      }
    },
    {
      "cell_type": "code",
      "source": [
        "from sklearn.linear_model import LinearRegression"
      ],
      "metadata": {
        "id": "MNnFi99YNSV8"
      },
      "execution_count": null,
      "outputs": []
    },
    {
      "cell_type": "code",
      "source": [
        "reg = LinearRegression().fit(x_train, y_train)\n",
        "\n",
        "reg.score(x_train,y_train)"
      ],
      "metadata": {
        "id": "VxSQ2sSUNScw",
        "colab": {
          "base_uri": "https://localhost:8080/"
        },
        "outputId": "127f474c-edc3-4856-93c6-2817cc4f4a09"
      },
      "execution_count": null,
      "outputs": [
        {
          "output_type": "execute_result",
          "data": {
            "text/plain": [
              "0.4406196329545534"
            ]
          },
          "metadata": {},
          "execution_count": 15
        }
      ]
    },
    {
      "cell_type": "markdown",
      "source": [
        "**Prediction of the Data**"
      ],
      "metadata": {
        "id": "03Q2YlISNnvg"
      }
    },
    {
      "cell_type": "code",
      "source": [
        "y_train_pred = reg.predict(x_train).sum(axis=1)\n",
        "y_train_pred"
      ],
      "metadata": {
        "id": "AgJQXGfbNSfF",
        "colab": {
          "base_uri": "https://localhost:8080/"
        },
        "outputId": "e8c4c67b-73ff-440a-986c-be3d787b8721"
      },
      "execution_count": null,
      "outputs": [
        {
          "output_type": "execute_result",
          "data": {
            "text/plain": [
              "array([ 62.26512277,  35.43757731,  44.56744289,  62.31950045,\n",
              "        64.32264654,  39.32664908,  19.92741596,  43.06913407,\n",
              "        47.84317734,  37.40629742,  57.0872911 ,  18.97654563,\n",
              "        50.55278175,  34.69891204,  51.66352638,  56.53708977,\n",
              "        34.29143633,  66.03069865,  51.76051099,  54.30620682,\n",
              "         9.33707321,  50.68904174,  62.71897509,  32.10918272,\n",
              "        16.55972549,  19.97903675,  60.01190618,  44.72419152,\n",
              "        15.9772063 ,  72.64903327,  30.58802941,  37.14582425,\n",
              "        -2.37184519,  32.16087002,  -6.53847357,  66.50549602,\n",
              "       -11.06603367,  62.24463389,  42.12430013,  60.87263856,\n",
              "        47.87543673,  57.36518223,  56.0111068 ,  37.86736009,\n",
              "        32.56768938,  29.67402631,  67.65517238,  71.03842752,\n",
              "        49.1141238 ,  58.40103932,  60.48192804,  35.98149289,\n",
              "        23.84423272,  26.00472355,  29.23095673,  25.1617841 ,\n",
              "        47.11174991,  63.51682701,  19.49599572,  52.059669  ,\n",
              "        53.20469744,  44.69708237,  58.81836759,  58.0454728 ,\n",
              "        39.04667258,  56.45992227,  29.31250451,  30.36066729,\n",
              "        15.7626058 ,  39.44655764,  75.30362416,  49.65096539,\n",
              "        44.81344913,  52.08970913,  14.77771872,  51.02333521,\n",
              "        48.50298522,   7.84714821,  48.65613157,  50.62025806,\n",
              "        44.34447932])"
            ]
          },
          "metadata": {},
          "execution_count": 16
        }
      ]
    },
    {
      "cell_type": "code",
      "source": [
        "y_test_pred = reg.predict(x_test).sum(axis=1)\n",
        "\n",
        "y_test_pred"
      ],
      "metadata": {
        "id": "UHtaaif0OIVL",
        "colab": {
          "base_uri": "https://localhost:8080/"
        },
        "outputId": "d11b1d2c-1077-4d6e-f90b-c6fc4e373924"
      },
      "execution_count": null,
      "outputs": [
        {
          "output_type": "execute_result",
          "data": {
            "text/plain": [
              "array([52.43460568, 48.65093389, 10.91566869, 50.48381842, 56.70470282,\n",
              "       72.62651974, 54.8133243 , 49.26031534, 60.38533225, 40.25786997,\n",
              "       36.99883977, 65.99456984, 40.41801133, 48.62412772, 38.55590654,\n",
              "       74.61042362, 45.47149369, 59.88579333, 32.90781018, 63.59508629,\n",
              "       40.8788794 , 37.90192043, 41.72712397, 29.14102142, 17.79997523,\n",
              "       53.94258471, 14.85241142])"
            ]
          },
          "metadata": {},
          "execution_count": 17
        }
      ]
    },
    {
      "cell_type": "markdown",
      "source": [
        "**R2 Score**"
      ],
      "metadata": {
        "id": "-jImK17-OPwO"
      }
    },
    {
      "cell_type": "code",
      "source": [
        "from sklearn.metrics import r2_score\n",
        "\n",
        "print('R^2 train: ', r2_score(y_train, y_train_pred))\n",
        "print('R^2 test: ', r2_score(y_test, y_test_pred))"
      ],
      "metadata": {
        "id": "HDucVkDqOIa9",
        "colab": {
          "base_uri": "https://localhost:8080/"
        },
        "outputId": "cbed5f07-ff6d-4970-af9a-9f19e4f7dbc5"
      },
      "execution_count": null,
      "outputs": [
        {
          "output_type": "stream",
          "name": "stdout",
          "text": [
            "R^2 train:  0.4406196329545534\n",
            "R^2 test:  0.33473854508990053\n"
          ]
        }
      ]
    },
    {
      "cell_type": "markdown",
      "source": [
        "**MSE Score**"
      ],
      "metadata": {
        "id": "nblRTr3lOTRw"
      }
    },
    {
      "cell_type": "code",
      "source": [
        "from sklearn.metrics import mean_squared_error\n",
        "\n",
        "mse = mean_squared_error(y_train, y_train_pred)\n",
        "print('MSE train: ', mean_squared_error(y_train, y_train_pred))\n",
        "print('MSE test: ', mean_squared_error(y_test, y_test_pred))"
      ],
      "metadata": {
        "id": "1JlzKzoJOIiS",
        "colab": {
          "base_uri": "https://localhost:8080/"
        },
        "outputId": "6f951bfe-cc96-4404-fff9-320d43bce07d"
      },
      "execution_count": null,
      "outputs": [
        {
          "output_type": "stream",
          "name": "stdout",
          "text": [
            "MSE train:  436.6416838456032\n",
            "MSE test:  311.93888018233093\n"
          ]
        }
      ]
    },
    {
      "cell_type": "markdown",
      "source": [
        "**Regression Coefficent**"
      ],
      "metadata": {
        "id": "YKxS6Oq8Oa7J"
      }
    },
    {
      "cell_type": "code",
      "source": [
        "print('Regression Coefficients: ', reg.coef_) "
      ],
      "metadata": {
        "id": "5rnDT7etOeig",
        "colab": {
          "base_uri": "https://localhost:8080/"
        },
        "outputId": "f1145203-2d9b-46a0-b6fa-d89522be93fa"
      },
      "execution_count": null,
      "outputs": [
        {
          "output_type": "stream",
          "name": "stdout",
          "text": [
            "Regression Coefficients:  [[ 0.02978459  0.06361269 -2.73887815  0.97042038]]\n"
          ]
        }
      ]
    },
    {
      "cell_type": "markdown",
      "source": [
        "**Regression Intercept**"
      ],
      "metadata": {
        "id": "az45mdbEOip0"
      }
    },
    {
      "cell_type": "code",
      "source": [
        "print('Regression intercept : ',reg.intercept_)"
      ],
      "metadata": {
        "id": "8mvDr4JWOeku",
        "colab": {
          "base_uri": "https://localhost:8080/"
        },
        "outputId": "6e7a1723-1438-4642-a62f-5c3ac3464ea3"
      },
      "execution_count": null,
      "outputs": [
        {
          "output_type": "stream",
          "name": "stdout",
          "text": [
            "Regression intercept :  [-16.56779029]\n"
          ]
        }
      ]
    },
    {
      "cell_type": "markdown",
      "source": [
        "**Summary**"
      ],
      "metadata": {
        "id": "dbogCwuQOm1t"
      }
    },
    {
      "cell_type": "code",
      "source": [
        "import statsmodels.api as sm\n",
        "res=sm.OLS(Y,X).fit()\n",
        "print(res.summary())"
      ],
      "metadata": {
        "id": "GEs7KwwcOenG",
        "colab": {
          "base_uri": "https://localhost:8080/"
        },
        "outputId": "0446441e-b4a6-4f21-f780-a70d7d57b1c4"
      },
      "execution_count": null,
      "outputs": [
        {
          "output_type": "stream",
          "name": "stderr",
          "text": [
            "/usr/local/lib/python3.7/dist-packages/statsmodels/tools/_testing.py:19: FutureWarning: pandas.util.testing is deprecated. Use the functions in the public API at pandas.testing instead.\n",
            "  import pandas.util.testing as tm\n"
          ]
        },
        {
          "output_type": "stream",
          "name": "stdout",
          "text": [
            "                                 OLS Regression Results                                \n",
            "=======================================================================================\n",
            "Dep. Variable:                  Ozone   R-squared (uncentered):                   0.837\n",
            "Model:                            OLS   Adj. R-squared (uncentered):              0.831\n",
            "Method:                 Least Squares   F-statistic:                              133.8\n",
            "Date:                Thu, 28 Apr 2022   Prob (F-statistic):                    4.42e-40\n",
            "Time:                        10:21:48   Log-Likelihood:                         -477.74\n",
            "No. Observations:                 108   AIC:                                      963.5\n",
            "Df Residuals:                     104   BIC:                                      974.2\n",
            "Df Model:                           4                                                  \n",
            "Covariance Type:            nonrobust                                                  \n",
            "==============================================================================\n",
            "                 coef    std err          t      P>|t|      [0.025      0.975]\n",
            "------------------------------------------------------------------------------\n",
            "Month          2.6336      2.969      0.887      0.377      -3.254       8.521\n",
            "Solar.R        0.0657      0.024      2.766      0.007       0.019       0.113\n",
            "Wind          -2.8307      0.479     -5.911      0.000      -3.780      -1.881\n",
            "Temp           0.5441      0.272      1.999      0.048       0.004       1.084\n",
            "==============================================================================\n",
            "Omnibus:                       16.008   Durbin-Watson:                   1.638\n",
            "Prob(Omnibus):                  0.000   Jarque-Bera (JB):               18.031\n",
            "Skew:                           0.918   Prob(JB):                     0.000122\n",
            "Kurtosis:                       3.796   Cond. No.                         338.\n",
            "==============================================================================\n",
            "\n",
            "Warnings:\n",
            "[1] Standard Errors assume that the covariance matrix of the errors is correctly specified.\n"
          ]
        }
      ]
    }
  ]
}